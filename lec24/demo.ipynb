{
 "cells": [
  {
   "cell_type": "code",
   "execution_count": 1,
   "metadata": {},
   "outputs": [
    {
     "name": "stdout",
     "output_type": "stream",
     "text": [
      "Madison\n"
     ]
    }
   ],
   "source": [
    "x = {}\n",
    "y=x \n",
    "y[\"WI\"] = \"Madison\" \n",
    "print(x[\"WI\"])"
   ]
  },
  {
   "cell_type": "code",
   "execution_count": 2,
   "metadata": {},
   "outputs": [
    {
     "name": "stdout",
     "output_type": "stream",
     "text": [
      "in h function\n",
      "in h function\n",
      "in h function\n"
     ]
    }
   ],
   "source": [
    "def g():\n",
    "    print(\"in g function\")\n",
    "def h():\n",
    "    print(\"in h function\")\n",
    "def call_it(f,n):\n",
    "    for i in range(n):\n",
    "        f()\n",
    "\n",
    "call_it(h,3)"
   ]
  },
  {
   "cell_type": "code",
   "execution_count": 3,
   "metadata": {},
   "outputs": [
    {
     "name": "stdout",
     "output_type": "stream",
     "text": [
      "[-16, 18]\n"
     ]
    }
   ],
   "source": [
    "def apply_on_each(f,items):\n",
    "    new_items = []\n",
    "    for val in items:\n",
    "        new_items.append(f(val))\n",
    "    return new_items\n",
    "    \n",
    "def double(x):\n",
    "    return x * 2\n",
    "    \n",
    "values = [-8,9]\n",
    "result = apply_on_each(double,values)\n",
    "print(result)"
   ]
  },
  {
   "cell_type": "code",
   "execution_count": 5,
   "metadata": {},
   "outputs": [
    {
     "name": "stdout",
     "output_type": "stream",
     "text": [
      "START\n",
      "END\n",
      "0\n",
      "1\n",
      "2\n",
      "3\n",
      "4\n",
      "5\n",
      "6\n",
      "7\n",
      "8\n",
      "9\n"
     ]
    }
   ],
   "source": [
    "def get_one_digit_nums():\n",
    "    print(\"START\")\n",
    "    nums = []\n",
    "    i = 0\n",
    "    while i < 10:\n",
    "        nums.append(i)\n",
    "        i += 1\n",
    "    print(\"END\")\n",
    "    return nums\n",
    "for x in get_one_digit_nums():\n",
    "    print(x)"
   ]
  },
  {
   "cell_type": "code",
   "execution_count": 6,
   "metadata": {},
   "outputs": [
    {
     "name": "stdout",
     "output_type": "stream",
     "text": [
      "START\n"
     ]
    },
    {
     "ename": "NameError",
     "evalue": "name 'is_prime' is not defined",
     "output_type": "error",
     "traceback": [
      "\u001b[0;31m---------------------------------------------------------------------------\u001b[0m",
      "\u001b[0;31mNameError\u001b[0m                                 Traceback (most recent call last)",
      "\u001b[0;32m<ipython-input-6-f8516e5944a7>\u001b[0m in \u001b[0;36m<module>\u001b[0;34m\u001b[0m\n\u001b[1;32m      9\u001b[0m     \u001b[0mprint\u001b[0m\u001b[0;34m(\u001b[0m\u001b[0;34m\"END\"\u001b[0m\u001b[0;34m)\u001b[0m\u001b[0;34m\u001b[0m\u001b[0;34m\u001b[0m\u001b[0m\n\u001b[1;32m     10\u001b[0m     \u001b[0;32mreturn\u001b[0m \u001b[0mnums\u001b[0m\u001b[0;34m\u001b[0m\u001b[0;34m\u001b[0m\u001b[0m\n\u001b[0;32m---> 11\u001b[0;31m \u001b[0;32mfor\u001b[0m \u001b[0mx\u001b[0m \u001b[0;32min\u001b[0m \u001b[0mget_primes\u001b[0m\u001b[0;34m(\u001b[0m\u001b[0;34m)\u001b[0m\u001b[0;34m:\u001b[0m\u001b[0;34m\u001b[0m\u001b[0;34m\u001b[0m\u001b[0m\n\u001b[0m\u001b[1;32m     12\u001b[0m     \u001b[0mprint\u001b[0m\u001b[0;34m(\u001b[0m\u001b[0mx\u001b[0m\u001b[0;34m)\u001b[0m\u001b[0;34m\u001b[0m\u001b[0;34m\u001b[0m\u001b[0m\n",
      "\u001b[0;32m<ipython-input-6-f8516e5944a7>\u001b[0m in \u001b[0;36mget_primes\u001b[0;34m()\u001b[0m\n\u001b[1;32m      4\u001b[0m     \u001b[0mi\u001b[0m \u001b[0;34m=\u001b[0m \u001b[0;36m0\u001b[0m\u001b[0;34m\u001b[0m\u001b[0;34m\u001b[0m\u001b[0m\n\u001b[1;32m      5\u001b[0m     \u001b[0;32mwhile\u001b[0m \u001b[0;36m1\u001b[0m\u001b[0;34m<=\u001b[0m\u001b[0;36m100\u001b[0m\u001b[0;34m:\u001b[0m\u001b[0;34m\u001b[0m\u001b[0;34m\u001b[0m\u001b[0m\n\u001b[0;32m----> 6\u001b[0;31m         \u001b[0;32mif\u001b[0m \u001b[0mis_prime\u001b[0m\u001b[0;34m(\u001b[0m\u001b[0mi\u001b[0m\u001b[0;34m)\u001b[0m\u001b[0;34m:\u001b[0m\u001b[0;34m\u001b[0m\u001b[0;34m\u001b[0m\u001b[0m\n\u001b[0m\u001b[1;32m      7\u001b[0m             \u001b[0mnums\u001b[0m\u001b[0;34m.\u001b[0m\u001b[0mappend\u001b[0m\u001b[0;34m(\u001b[0m\u001b[0mi\u001b[0m\u001b[0;34m)\u001b[0m\u001b[0;34m\u001b[0m\u001b[0;34m\u001b[0m\u001b[0m\n\u001b[1;32m      8\u001b[0m             \u001b[0mi\u001b[0m \u001b[0;34m+=\u001b[0m \u001b[0;36m1\u001b[0m\u001b[0;34m\u001b[0m\u001b[0;34m\u001b[0m\u001b[0m\n",
      "\u001b[0;31mNameError\u001b[0m: name 'is_prime' is not defined"
     ]
    }
   ],
   "source": [
    "def get_primes():\n",
    "    print(\"START\")\n",
    "    nums = []\n",
    "    i = 0\n",
    "    while 1<=100:\n",
    "        if is_prime(i):\n",
    "            nums.append(i)\n",
    "            i += 1\n",
    "    print(\"END\")\n",
    "    return nums\n",
    "for x in get_primes():\n",
    "    print(x)"
   ]
  },
  {
   "cell_type": "code",
   "execution_count": 8,
   "metadata": {},
   "outputs": [
    {
     "name": "stdout",
     "output_type": "stream",
     "text": [
      "A\n",
      "5\n",
      "B\n",
      "4\n",
      "C\n",
      "3\n"
     ]
    }
   ],
   "source": [
    "def gen_nums():\n",
    "    print(\"A\")\n",
    "    yield 5\n",
    "    print(\"B\")\n",
    "    yield 4\n",
    "    print(\"C\")\n",
    "    yield 3\n",
    "    \n",
    "g = gen_nums()    \n",
    "print(next(g)) \n",
    "print(next(g))\n",
    "print(next(g))"
   ]
  },
  {
   "cell_type": "code",
   "execution_count": null,
   "metadata": {},
   "outputs": [],
   "source": [
    "def gen_nums():\n",
    "    print(\"A\")\n",
    "    yield 5\n",
    "    print(\"B\")\n",
    "    yield 4\n",
    "    print(\"C\")\n",
    "    yield 3\n",
    "\n",
    "g1 = gen_nums()    \n",
    "g2 = gen_nums()\n",
    "print(next(g1)) \n",
    "print(next(g2))"
   ]
  }
 ],
 "metadata": {
  "kernelspec": {
   "display_name": "Python 3",
   "language": "python",
   "name": "python3"
  },
  "language_info": {
   "codemirror_mode": {
    "name": "ipython",
    "version": 3
   },
   "file_extension": ".py",
   "mimetype": "text/x-python",
   "name": "python",
   "nbconvert_exporter": "python",
   "pygments_lexer": "ipython3",
   "version": "3.7.1"
  }
 },
 "nbformat": 4,
 "nbformat_minor": 2
}
