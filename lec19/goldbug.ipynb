{
 "cells": [
  {
   "cell_type": "code",
   "execution_count": 1,
   "metadata": {},
   "outputs": [],
   "source": [
    "# this returns the text of the book.\n",
    "# just use it!\n",
    "# (you don't need to understand how it works at this point in the semester)\n",
    "def read_book():\n",
    "    with open('pg420.txt') as f:\n",
    "        return f.read()\n",
    "\n",
    "text1 = \"AAAAABBCCC\"\n",
    "text2 = ('A good glass in the bishop\\'s hostel in the devil\\'s seat ' +\n",
    "         'twenty-one degrees and thirteen minutes northeast and by north ' +\n",
    "         'main branch seventh limb east side ' +\n",
    "         'shoot from the left eye of the death\\'s-head ' +\n",
    "         'a bee line from the tree through the shot fifty feet out.')\n",
    "text3 = read_book()"
   ]
  },
  {
   "cell_type": "code",
   "execution_count": 3,
   "metadata": {},
   "outputs": [
    {
     "data": {
      "text/plain": [
       "[['year', 'id', 'location', 'speed'],\n",
       " ['2006', 'QPIQPWDP', 'site B', '175'],\n",
       " ['1996', 'MMMHKDDK', 'site B', '290'],\n",
       " ['2016', 'QSCAPJBU', 'site B', '290'],\n",
       " ['2014', 'KKGOICYZ', 'site C', '122']]"
      ]
     },
     "execution_count": 3,
     "metadata": {},
     "output_type": "execute_result"
    }
   ],
   "source": [
    "import csv\n",
    "\n",
    "# copied from https://automatetheboringstuff.com/chapter14/\n",
    "def process_csv(filename):\n",
    "    exampleFile = open(filename, encoding=\"utf-8\")\n",
    "    exampleReader = csv.reader(exampleFile)\n",
    "    exampleData = list(exampleReader)\n",
    "    return exampleData\n",
    "\n",
    "# use process_csv to pull out the header and data rows\n",
    "rows = process_csv(\"tornados.csv\")\n",
    "header = rows[0]\n",
    "rows[:5]"
   ]
  },
  {
   "cell_type": "code",
   "execution_count": 5,
   "metadata": {},
   "outputs": [
    {
     "name": "stdout",
     "output_type": "stream",
     "text": [
      "{'2006': [175], '1996': [290, 238, 187, 209, 290], '2016': [290, 139, 286, 186], '2014': [122, 264, 153, 296], '2015': [147, 130], '2005': [198, 173, 109, 236], '2002': [199, 269, 213, 175, 250], '1995': [281, 198, 234, 187, 155], '1997': [222, 272], '2001': [174, 271, 259], '2011': [243, 230], '2010': [201, 202], '2017': [181, 218, 179, 194], '2008': [255, 272, 257], '2003': [155, 240], '2004': [137, 287], '2013': [220, 259], '2009': [141, 112, 258], '1998': [240], '2007': [159, 265]}\n"
     ]
    }
   ],
   "source": [
    "buckets = {}\n",
    "for row in rows[1:]:\n",
    "    key = row[header.index(\"year\")]\n",
    "    speed = int(row[header.index(\"speed\")])\n",
    "    if key in buckets:\n",
    "        buckets[key].append(speed)\n",
    "    else:\n",
    "        buckets[key] = [speed]\n",
    "print(buckets)"
   ]
  },
  {
   "cell_type": "code",
   "execution_count": 13,
   "metadata": {},
   "outputs": [],
   "source": [
    "def median(nums):\n",
    "    nums.sort()\n",
    "    if len(nums) % 2 == 0:\n",
    "        return (nums[len(nums)//2]+nums[len(nums)//2-1])/2\n",
    "    else:\n",
    "        return nums[len(nums)//2]"
   ]
  },
  {
   "cell_type": "code",
   "execution_count": 14,
   "metadata": {},
   "outputs": [
    {
     "name": "stdout",
     "output_type": "stream",
     "text": [
      "2006 175\n",
      "1996 238\n",
      "2016 236.0\n",
      "2014 208.5\n",
      "2015 138.5\n",
      "2005 185.5\n",
      "2002 213\n",
      "1995 198\n",
      "1997 247.0\n",
      "2001 259\n",
      "2011 236.5\n",
      "2010 201.5\n",
      "2017 187.5\n",
      "2008 257\n",
      "2003 197.5\n",
      "2004 212.0\n",
      "2013 239.5\n",
      "2009 141\n",
      "1998 240\n",
      "2007 212.0\n"
     ]
    }
   ],
   "source": [
    "for year in buckets:\n",
    "    speeds = buckets[year]\n",
    "    print(year,median(speeds))"
   ]
  },
  {
   "cell_type": "code",
   "execution_count": 16,
   "metadata": {},
   "outputs": [],
   "source": [
    "def row_to_dict(header,row):\n",
    "    row_dict = {}\n",
    "    for i in range(len(row)):\n",
    "        row_dict[header[i]] = row[i]\n",
    "    return row_dict"
   ]
  },
  {
   "cell_type": "code",
   "execution_count": 17,
   "metadata": {},
   "outputs": [
    {
     "data": {
      "text/plain": [
       "{'year': '2006', 'id': 'QPIQPWDP', 'location': 'site B', 'speed': '175'}"
      ]
     },
     "execution_count": 17,
     "metadata": {},
     "output_type": "execute_result"
    }
   ],
   "source": [
    "row_to_dict(header, rows[1])"
   ]
  },
  {
   "cell_type": "code",
   "execution_count": null,
   "metadata": {},
   "outputs": [],
   "source": []
  }
 ],
 "metadata": {
  "kernelspec": {
   "display_name": "Python 3",
   "language": "python",
   "name": "python3"
  },
  "language_info": {
   "codemirror_mode": {
    "name": "ipython",
    "version": 3
   },
   "file_extension": ".py",
   "mimetype": "text/x-python",
   "name": "python",
   "nbconvert_exporter": "python",
   "pygments_lexer": "ipython3",
   "version": "3.7.1"
  }
 },
 "nbformat": 4,
 "nbformat_minor": 2
}
