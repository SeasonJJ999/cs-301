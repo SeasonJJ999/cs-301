{
 "cells": [
  {
   "cell_type": "code",
   "execution_count": 10,
   "metadata": {},
   "outputs": [],
   "source": [
    "y = 1\n",
    "def f(x):\n",
    "    global y\n",
    "    y=-1\n",
    "    if x<=-2:\n",
    "        return 2\n",
    "    elif x<0:\n",
    "        return -x\n",
    "    else:\n",
    "        return int(x)#or use import math#math.floor\n",
    "def g(x):\n",
    "    if x>=y:\n",
    "        return 0\n",
    "    else: \n",
    "        return 1"
   ]
  },
  {
   "cell_type": "code",
   "execution_count": 11,
   "metadata": {},
   "outputs": [
    {
     "data": {
      "text/plain": [
       "5"
      ]
     },
     "execution_count": 11,
     "metadata": {},
     "output_type": "execute_result"
    }
   ],
   "source": [
    "f(5.5)"
   ]
  },
  {
   "cell_type": "code",
   "execution_count": 21,
   "metadata": {},
   "outputs": [],
   "source": [
    "def stoplight(color, distance):\n",
    "    if color == \"red\":\n",
    "        if distance < 15:\n",
    "            return \"hit the gas\"\n",
    "        else:\n",
    "            return \"stop abruptly\"\n",
    "    elif color == \"yellow\":\n",
    "        if distance < 30:\n",
    "            return \"continue on\"\n",
    "        else:\n",
    "            return \"stop\"\n",
    "    elif color == \"green\":\n",
    "        return \"smile\"\n",
    "    else:\n",
    "        return 'undefined color light'"
   ]
  },
  {
   "cell_type": "code",
   "execution_count": 22,
   "metadata": {},
   "outputs": [
    {
     "data": {
      "text/plain": [
       "'undefined color light'"
      ]
     },
     "execution_count": 22,
     "metadata": {},
     "output_type": "execute_result"
    }
   ],
   "source": [
    "stoplight(\"pink\",15)"
   ]
  },
  {
   "cell_type": "code",
   "execution_count": 44,
   "metadata": {},
   "outputs": [],
   "source": [
    "def format_day_me(day):\n",
    "    firstday = str(day)[1]\n",
    "    lastday = str(day)[-1]\n",
    "    if firstday == '1':\n",
    "        return str(day) + 'th'\n",
    "    if lastday == '1':\n",
    "        return str(day) + 'st'\n",
    "    elif lastday == '2':\n",
    "        return str(day) + 'nd'\n",
    "    elif lastday == '3':\n",
    "        return str(day) + 'rd'\n",
    "    else:\n",
    "        return str(day) + 'th'\n",
    "\n",
    "def month_name(month):\n",
    "    if month == 1:\n",
    "        return \"Jan\"\n",
    "    elif month == 2:\n",
    "        return \"Feb\"\n",
    "    elif month <=12:\n",
    "        return \"not implemented yet\"\n",
    "    else:\n",
    "        return \"not a month\"\n",
    "    \n",
    "#在python里面函数里面调用的函数可以在该函数的定义之后    \n",
    "def day_name(month, day):\n",
    "    return month_name(month)+' '+format_day_instructor(day)\n",
    "\n",
    "def format_day_instructor(day):\n",
    "    digit = day % 10\n",
    "    ###python竟然能这样=========\n",
    "    if 10< day<20:\n",
    "        return str(day) +'th'\n",
    "    if digit == 1:\n",
    "        return str(day) + 'st'\n",
    "    elif digit == 2:\n",
    "        return str(day) + 'nd'\n",
    "    elif digit == 3:\n",
    "        return str(day) + 'rd'\n",
    "    else:\n",
    "        return str(day) + 'th'"
   ]
  },
  {
   "cell_type": "code",
   "execution_count": 45,
   "metadata": {},
   "outputs": [
    {
     "data": {
      "text/plain": [
       "'Feb 11th'"
      ]
     },
     "execution_count": 45,
     "metadata": {},
     "output_type": "execute_result"
    }
   ],
   "source": [
    "day_name(2,11)"
   ]
  },
  {
   "cell_type": "code",
   "execution_count": null,
   "metadata": {},
   "outputs": [],
   "source": []
  }
 ],
 "metadata": {
  "kernelspec": {
   "display_name": "Python 3",
   "language": "python",
   "name": "python3"
  },
  "language_info": {
   "codemirror_mode": {
    "name": "ipython",
    "version": 3
   },
   "file_extension": ".py",
   "mimetype": "text/x-python",
   "name": "python",
   "nbconvert_exporter": "python",
   "pygments_lexer": "ipython3",
   "version": "3.7.1"
  }
 },
 "nbformat": 4,
 "nbformat_minor": 2
}
