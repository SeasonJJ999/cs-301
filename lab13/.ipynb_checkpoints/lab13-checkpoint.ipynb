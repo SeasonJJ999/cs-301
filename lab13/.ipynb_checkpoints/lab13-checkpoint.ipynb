{
 "cells": [
  {
   "cell_type": "code",
   "execution_count": 21,
   "metadata": {},
   "outputs": [],
   "source": [
    "import random\n",
    "from pandas import Series, DataFrame\n",
    "import pandas as pd\n",
    "import matplotlib\n",
    "\n",
    "%matplotlib inline\n",
    "\n",
    "import numpy as np"
   ]
  },
  {
   "cell_type": "code",
   "execution_count": 12,
   "metadata": {},
   "outputs": [
    {
     "data": {
      "text/html": [
       "<div>\n",
       "<style scoped>\n",
       "    .dataframe tbody tr th:only-of-type {\n",
       "        vertical-align: middle;\n",
       "    }\n",
       "\n",
       "    .dataframe tbody tr th {\n",
       "        vertical-align: top;\n",
       "    }\n",
       "\n",
       "    .dataframe thead th {\n",
       "        text-align: right;\n",
       "    }\n",
       "</style>\n",
       "<table border=\"1\" class=\"dataframe\">\n",
       "  <thead>\n",
       "    <tr style=\"text-align: right;\">\n",
       "      <th></th>\n",
       "      <th>age</th>\n",
       "      <th>heights</th>\n",
       "    </tr>\n",
       "  </thead>\n",
       "  <tbody>\n",
       "    <tr>\n",
       "      <th>0</th>\n",
       "      <td>2.198074</td>\n",
       "      <td>4.824425</td>\n",
       "    </tr>\n",
       "    <tr>\n",
       "      <th>1</th>\n",
       "      <td>9.284360</td>\n",
       "      <td>21.231268</td>\n",
       "    </tr>\n",
       "    <tr>\n",
       "      <th>2</th>\n",
       "      <td>7.997415</td>\n",
       "      <td>17.668551</td>\n",
       "    </tr>\n",
       "    <tr>\n",
       "      <th>3</th>\n",
       "      <td>1.745868</td>\n",
       "      <td>5.347555</td>\n",
       "    </tr>\n",
       "    <tr>\n",
       "      <th>4</th>\n",
       "      <td>6.480429</td>\n",
       "      <td>15.369681</td>\n",
       "    </tr>\n",
       "  </tbody>\n",
       "</table>\n",
       "</div>"
      ],
      "text/plain": [
       "        age    heights\n",
       "0  2.198074   4.824425\n",
       "1  9.284360  21.231268\n",
       "2  7.997415  17.668551\n",
       "3  1.745868   5.347555\n",
       "4  6.480429  15.369681"
      ]
     },
     "execution_count": 12,
     "metadata": {},
     "output_type": "execute_result"
    }
   ],
   "source": [
    "ages = []\n",
    "heights = []\n",
    "for i in range(100):\n",
    "    age = random.uniform(1, 10)\n",
    "    noise = random.uniform(-1.5, 1.5)\n",
    "    height = age * 2.3 + noise\n",
    "    ages.append(age)\n",
    "    heights.append(height)\n",
    "\n",
    "trees = DataFrame({\"age\":ages, \"heights\":heights})\n",
    "trees.head()\n"
   ]
  },
  {
   "cell_type": "code",
   "execution_count": 17,
   "metadata": {},
   "outputs": [
    {
     "data": {
      "image/png": "[encoded data removed]",
      "text/plain": [
       "<Figure size 432x288 with 1 Axes>"
      ]
     },
     "metadata": {
      "needs_background": "light"
     },
     "output_type": "display_data"
    }
   ],
   "source": [
    "matplotlib.rcParams[\"font.size\"] = 20\n",
    "ax = trees.plot.scatter(x=\"age\", y=\"heights\", c='black', xlim=0, ylim=0)\n",
    "ax.set_xlabel(\"Age (years)\")\n",
    "ax.set_ylabel(\"Height (feet)\")\n",
    "None"
   ]
  },
  {
   "cell_type": "code",
   "execution_count": 18,
   "metadata": {},
   "outputs": [
    {
     "data": {
      "text/html": [
       "<div>\n",
       "<style scoped>\n",
       "    .dataframe tbody tr th:only-of-type {\n",
       "        vertical-align: middle;\n",
       "    }\n",
       "\n",
       "    .dataframe tbody tr th {\n",
       "        vertical-align: top;\n",
       "    }\n",
       "\n",
       "    .dataframe thead th {\n",
       "        text-align: right;\n",
       "    }\n",
       "</style>\n",
       "<table border=\"1\" class=\"dataframe\">\n",
       "  <thead>\n",
       "    <tr style=\"text-align: right;\">\n",
       "      <th></th>\n",
       "      <th>age</th>\n",
       "      <th>heights</th>\n",
       "      <th>height-fitted</th>\n",
       "    </tr>\n",
       "  </thead>\n",
       "  <tbody>\n",
       "    <tr>\n",
       "      <th>0</th>\n",
       "      <td>2.198074</td>\n",
       "      <td>4.824425</td>\n",
       "      <td>4.396147</td>\n",
       "    </tr>\n",
       "    <tr>\n",
       "      <th>1</th>\n",
       "      <td>9.284360</td>\n",
       "      <td>21.231268</td>\n",
       "      <td>18.568720</td>\n",
       "    </tr>\n",
       "    <tr>\n",
       "      <th>2</th>\n",
       "      <td>7.997415</td>\n",
       "      <td>17.668551</td>\n",
       "      <td>15.994830</td>\n",
       "    </tr>\n",
       "    <tr>\n",
       "      <th>3</th>\n",
       "      <td>1.745868</td>\n",
       "      <td>5.347555</td>\n",
       "      <td>3.491736</td>\n",
       "    </tr>\n",
       "    <tr>\n",
       "      <th>4</th>\n",
       "      <td>6.480429</td>\n",
       "      <td>15.369681</td>\n",
       "      <td>12.960858</td>\n",
       "    </tr>\n",
       "  </tbody>\n",
       "</table>\n",
       "</div>"
      ],
      "text/plain": [
       "        age    heights  height-fitted\n",
       "0  2.198074   4.824425       4.396147\n",
       "1  9.284360  21.231268      18.568720\n",
       "2  7.997415  17.668551      15.994830\n",
       "3  1.745868   5.347555       3.491736\n",
       "4  6.480429  15.369681      12.960858"
      ]
     },
     "execution_count": 18,
     "metadata": {},
     "output_type": "execute_result"
    }
   ],
   "source": [
    "trees[\"height-fitted\"] = trees[\"age\"] * 2\n",
    "trees.head()"
   ]
  },
  {
   "cell_type": "code",
   "execution_count": 20,
   "metadata": {},
   "outputs": [
    {
     "data": {
      "text/plain": [
       "<matplotlib.axes._subplots.AxesSubplot at 0x11d120668>"
      ]
     },
     "execution_count": 20,
     "metadata": {},
     "output_type": "execute_result"
    },
    {
     "data": {
      "image/png": "[encoded data removed]",
      "text/plain": [
       "<Figure size 432x288 with 1 Axes>"
      ]
     },
     "metadata": {
      "needs_background": "light"
     },
     "output_type": "display_data"
    }
   ],
   "source": [
    "matplotlib.rcParams[\"font.size\"] = 18\n",
    "\n",
    "ax = trees.plot.scatter(x=\"age\", y=\"heights\", c=\"black\", xlim=0, ylim=0)\n",
    "ax.set_xlabel(\"age\")\n",
    "ax.set_ylabel(\"Height (feet)\")\n",
    "\n",
    "trees.plot.line(ax=ax, x=\"age\", y=\"height-fitted\", color=\"red\")"
   ]
  },
  {
   "cell_type": "code",
   "execution_count": 22,
   "metadata": {},
   "outputs": [
    {
     "data": {
      "text/plain": [
       "array([1, 2, 3, 4, 5, 6, 7, 8])"
      ]
     },
     "execution_count": 22,
     "metadata": {},
     "output_type": "execute_result"
    }
   ],
   "source": [
    "np.array([1,2,3,4,5,6,7,8])"
   ]
  },
  {
   "cell_type": "code",
   "execution_count": 23,
   "metadata": {},
   "outputs": [
    {
     "data": {
      "text/plain": [
       "array([[1, 2, 3, 4],\n",
       "       [5, 6, 7, 8]])"
      ]
     },
     "execution_count": 23,
     "metadata": {},
     "output_type": "execute_result"
    }
   ],
   "source": [
    "matrix = np.array([1,2,3,4,5,6,7,8]).reshape(2, 4)\n",
    "matrix"
   ]
  },
  {
   "cell_type": "code",
   "execution_count": 24,
   "metadata": {},
   "outputs": [
    {
     "data": {
      "text/plain": [
       "array([[1, 2],\n",
       "       [3, 4],\n",
       "       [5, 6],\n",
       "       [7, 8]])"
      ]
     },
     "execution_count": 24,
     "metadata": {},
     "output_type": "execute_result"
    }
   ],
   "source": [
    "matrix = np.array([1,2,3,4,5,6,7,8]).reshape(4, 2)\n",
    "matrix"
   ]
  },
  {
   "cell_type": "code",
   "execution_count": 26,
   "metadata": {},
   "outputs": [
    {
     "data": {
      "text/plain": [
       "7"
      ]
     },
     "execution_count": 26,
     "metadata": {},
     "output_type": "execute_result"
    }
   ],
   "source": [
    "matrix[3][0]"
   ]
  },
  {
   "cell_type": "code",
   "execution_count": 27,
   "metadata": {},
   "outputs": [
    {
     "data": {
      "text/plain": [
       "6"
      ]
     },
     "execution_count": 27,
     "metadata": {},
     "output_type": "execute_result"
    }
   ],
   "source": [
    "matrix[2][1]"
   ]
  },
  {
   "cell_type": "code",
   "execution_count": 28,
   "metadata": {},
   "outputs": [
    {
     "data": {
      "text/plain": [
       "array([[ 2.19807353,  4.82442491,  4.39614705],\n",
       "       [ 9.28435983, 21.23126759, 18.56871966],\n",
       "       [ 7.99741478, 17.66855115, 15.99482956],\n",
       "       [ 1.74586817,  5.34755478,  3.49173634],\n",
       "       [ 6.48042912, 15.3696811 , 12.96085824],\n",
       "       [ 6.85304818, 16.6365409 , 13.70609635],\n",
       "       [ 8.87978119, 19.84400025, 17.75956239],\n",
       "       [ 7.90926338, 19.16131707, 15.81852675],\n",
       "       [ 6.71308597, 14.57579199, 13.42617195],\n",
       "       [ 4.25506116,  9.39394865,  8.51012233],\n",
       "       [ 2.4397247 ,  5.75649419,  4.87944941],\n",
       "       [ 2.34416674,  6.61047256,  4.68833348],\n",
       "       [ 7.13393491, 17.08123562, 14.26786983],\n",
       "       [ 2.40804769,  5.76401342,  4.81609538],\n",
       "       [ 2.202941  ,  4.57327954,  4.40588201],\n",
       "       [ 6.14234496, 14.49066457, 12.28468991],\n",
       "       [ 3.03066694,  7.15328249,  6.06133388],\n",
       "       [ 3.22741022,  6.0189656 ,  6.45482044],\n",
       "       [ 2.37954988,  6.38167876,  4.75909977],\n",
       "       [ 1.14675374,  3.38802341,  2.29350748],\n",
       "       [ 7.84518986, 18.93679644, 15.69037972],\n",
       "       [ 9.95881638, 23.69945475, 19.91763276],\n",
       "       [ 9.54894272, 21.89959094, 19.09788544],\n",
       "       [ 6.79313058, 14.68932242, 13.58626117],\n",
       "       [ 5.36050057, 13.67335488, 10.72100115],\n",
       "       [ 4.36584882, 10.86824978,  8.73169764],\n",
       "       [ 3.45388969,  8.9243691 ,  6.90777937],\n",
       "       [ 1.62005052,  4.11771583,  3.24010104],\n",
       "       [ 6.46156723, 14.67124288, 12.92313445],\n",
       "       [ 5.32113417, 11.14240493, 10.64226835],\n",
       "       [ 9.79359709, 23.09690209, 19.58719419],\n",
       "       [ 3.28795702,  7.22475417,  6.57591404],\n",
       "       [ 3.74433052,  7.37756916,  7.48866103],\n",
       "       [ 8.25895064, 18.22534832, 16.51790128],\n",
       "       [ 6.41256147, 16.16843775, 12.82512294],\n",
       "       [ 6.98057482, 16.08520087, 13.96114965],\n",
       "       [ 7.37790137, 15.75742376, 14.75580275],\n",
       "       [ 2.42452722,  6.49469962,  4.84905445],\n",
       "       [ 3.3506061 ,  7.31104582,  6.70121219],\n",
       "       [ 9.79090966, 23.07580393, 19.58181931],\n",
       "       [ 2.92429072,  5.32584679,  5.84858144],\n",
       "       [ 8.58301588, 18.53599513, 17.16603177],\n",
       "       [ 6.50971117, 14.47086676, 13.01942234],\n",
       "       [ 4.41471711, 11.02472677,  8.82943422],\n",
       "       [ 7.88716552, 17.82773258, 15.77433104],\n",
       "       [ 7.07212879, 16.88991433, 14.14425758],\n",
       "       [ 6.64000355, 15.08321875, 13.2800071 ],\n",
       "       [ 3.03799594,  8.33520517,  6.07599188],\n",
       "       [ 6.14899642, 15.01404702, 12.29799283],\n",
       "       [ 6.53744024, 14.46963709, 13.07488047],\n",
       "       [ 3.0242453 ,  7.13310339,  6.04849061],\n",
       "       [ 1.45918101,  4.14216553,  2.91836202],\n",
       "       [ 1.38926009,  4.0184478 ,  2.77852019],\n",
       "       [ 8.39957594, 19.73406071, 16.79915187],\n",
       "       [ 8.24387975, 20.34805543, 16.4877595 ],\n",
       "       [ 3.84737417,  9.27295148,  7.69474833],\n",
       "       [ 7.30074034, 15.42615718, 14.60148069],\n",
       "       [ 9.42326517, 20.17800055, 18.84653034],\n",
       "       [ 5.16726479, 12.57611442, 10.33452958],\n",
       "       [ 7.78683571, 17.72117501, 15.57367142],\n",
       "       [ 4.47824187, 11.50538004,  8.95648375],\n",
       "       [ 8.01397211, 19.15088092, 16.02794422],\n",
       "       [ 9.17622842, 20.40281152, 18.35245684],\n",
       "       [ 1.80026519,  3.45928527,  3.60053037],\n",
       "       [ 7.59801446, 18.27413406, 15.19602892],\n",
       "       [ 8.5610666 , 18.93009039, 17.1221332 ],\n",
       "       [ 9.07462461, 20.07850858, 18.14924921],\n",
       "       [ 4.03097765, 10.47995232,  8.06195531],\n",
       "       [ 4.31128269,  9.73945859,  8.62256538],\n",
       "       [ 7.19877687, 16.68039645, 14.39755374],\n",
       "       [ 4.25662623,  9.98128016,  8.51325246],\n",
       "       [ 1.30943306,  3.76344134,  2.61886613],\n",
       "       [ 4.46140173, 11.05775025,  8.92280345],\n",
       "       [ 2.6988276 ,  4.77591046,  5.3976552 ],\n",
       "       [ 5.36955393, 12.08452352, 10.73910787],\n",
       "       [ 3.32428742,  7.65505184,  6.64857484],\n",
       "       [ 6.1767009 , 13.51203874, 12.35340181],\n",
       "       [ 3.97414947,  9.14179032,  7.94829895],\n",
       "       [ 5.17832965, 12.21871565, 10.35665929],\n",
       "       [ 9.24957876, 20.17868451, 18.49915753],\n",
       "       [ 2.63231638,  6.22860552,  5.26463276],\n",
       "       [ 8.85138635, 20.32036741, 17.70277271],\n",
       "       [ 2.05018608,  3.5999455 ,  4.10037217],\n",
       "       [ 4.68650838,  9.32521654,  9.37301676],\n",
       "       [ 3.31920424,  6.48188156,  6.63840848],\n",
       "       [ 6.31353191, 14.68978277, 12.62706383],\n",
       "       [ 3.19755678,  6.23840299,  6.39511357],\n",
       "       [ 7.28231088, 17.66170029, 14.56462175],\n",
       "       [ 6.95032197, 16.97945537, 13.90064394],\n",
       "       [ 9.44511769, 21.40396251, 18.89023538],\n",
       "       [ 9.70303964, 22.05201276, 19.40607928],\n",
       "       [ 2.72078427,  6.63171147,  5.44156853],\n",
       "       [ 8.18163129, 19.89262173, 16.36326257],\n",
       "       [ 2.85523383,  6.07662122,  5.71046766],\n",
       "       [ 8.47073971, 18.8523416 , 16.94147941],\n",
       "       [ 7.74684861, 18.1095455 , 15.49369723],\n",
       "       [ 1.6854618 ,  4.55414494,  3.37092361],\n",
       "       [ 5.30455811, 13.35796797, 10.60911622],\n",
       "       [ 4.29183929,  9.03400523,  8.58367859],\n",
       "       [ 1.02515   ,  0.88694917,  2.0503    ]])"
      ]
     },
     "execution_count": 28,
     "metadata": {},
     "output_type": "execute_result"
    }
   ],
   "source": [
    "trees.values"
   ]
  },
  {
   "cell_type": "code",
   "execution_count": 29,
   "metadata": {},
   "outputs": [
    {
     "data": {
      "text/html": [
       "<div>\n",
       "<style scoped>\n",
       "    .dataframe tbody tr th:only-of-type {\n",
       "        vertical-align: middle;\n",
       "    }\n",
       "\n",
       "    .dataframe tbody tr th {\n",
       "        vertical-align: top;\n",
       "    }\n",
       "\n",
       "    .dataframe thead th {\n",
       "        text-align: right;\n",
       "    }\n",
       "</style>\n",
       "<table border=\"1\" class=\"dataframe\">\n",
       "  <thead>\n",
       "    <tr style=\"text-align: right;\">\n",
       "      <th></th>\n",
       "      <th>age</th>\n",
       "      <th>one</th>\n",
       "    </tr>\n",
       "  </thead>\n",
       "  <tbody>\n",
       "    <tr>\n",
       "      <th>0</th>\n",
       "      <td>2.198074</td>\n",
       "      <td>1</td>\n",
       "    </tr>\n",
       "    <tr>\n",
       "      <th>1</th>\n",
       "      <td>9.284360</td>\n",
       "      <td>1</td>\n",
       "    </tr>\n",
       "    <tr>\n",
       "      <th>2</th>\n",
       "      <td>7.997415</td>\n",
       "      <td>1</td>\n",
       "    </tr>\n",
       "    <tr>\n",
       "      <th>3</th>\n",
       "      <td>1.745868</td>\n",
       "      <td>1</td>\n",
       "    </tr>\n",
       "    <tr>\n",
       "      <th>4</th>\n",
       "      <td>6.480429</td>\n",
       "      <td>1</td>\n",
       "    </tr>\n",
       "  </tbody>\n",
       "</table>\n",
       "</div>"
      ],
      "text/plain": [
       "        age  one\n",
       "0  2.198074    1\n",
       "1  9.284360    1\n",
       "2  7.997415    1\n",
       "3  1.745868    1\n",
       "4  6.480429    1"
      ]
     },
     "execution_count": 29,
     "metadata": {},
     "output_type": "execute_result"
    }
   ],
   "source": [
    "output = trees[\"heights\"]\n",
    "trees[\"one\"] = 1\n",
    "inputs = trees[[\"age\", \"one\"]]\n",
    "inputs.head()"
   ]
  },
  {
   "cell_type": "code",
   "execution_count": 30,
   "metadata": {},
   "outputs": [
    {
     "data": {
      "text/plain": [
       "(array([2.27501761, 0.17162893]),\n",
       " array([67.40492243]),\n",
       " 2,\n",
       " array([61.48735824,  4.232165  ]))"
      ]
     },
     "execution_count": 30,
     "metadata": {},
     "output_type": "execute_result"
    }
   ],
   "source": [
    "result = np.linalg.lstsq(inputs, output, rcond=None)\n",
    "result"
   ]
  },
  {
   "cell_type": "code",
   "execution_count": 31,
   "metadata": {},
   "outputs": [
    {
     "data": {
      "text/plain": [
       "<matplotlib.axes._subplots.AxesSubplot at 0x11d9f1860>"
      ]
     },
     "execution_count": 31,
     "metadata": {},
     "output_type": "execute_result"
    },
    {
     "data": {
      "image/png": "[encoded data removed]",
      "text/plain": [
       "<Figure size 432x288 with 1 Axes>"
      ]
     },
     "metadata": {
      "needs_background": "light"
     },
     "output_type": "display_data"
    }
   ],
   "source": [
    "slope = result[0][0]\n",
    "intercept = result[0][1]\n",
    "slope, intercept\n",
    "trees[\"height-fitted\"] = trees[\"age\"] * slope + intercept\n",
    "trees.head()\n",
    "matplotlib.rcParams[\"font.size\"] = 16\n",
    "\n",
    "ax = trees.plot.scatter(x=\"age\", y=\"heights\", c=\"black\", xlim=0, ylim=0)\n",
    "ax.set_xlabel(\"Age (years)\")\n",
    "ax.set_ylabel(\"Height (feet)\")\n",
    "\n",
    "trees.plot.line(ax=ax, x=\"age\", y=\"height-fitted\", color=\"red\")"
   ]
  },
  {
   "cell_type": "code",
   "execution_count": null,
   "metadata": {},
   "outputs": [],
   "source": []
  }
 ],
 "metadata": {
  "kernelspec": {
   "display_name": "Python 3",
   "language": "python",
   "name": "python3"
  },
  "language_info": {
   "codemirror_mode": {
    "name": "ipython",
    "version": 3
   },
   "file_extension": ".py",
   "mimetype": "text/x-python",
   "name": "python",
   "nbconvert_exporter": "python",
   "pygments_lexer": "ipython3",
   "version": "3.7.1"
  }
 },
 "nbformat": 4,
 "nbformat_minor": 2
}
