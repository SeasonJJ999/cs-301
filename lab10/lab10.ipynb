{
 "cells": [
  {
   "cell_type": "code",
   "execution_count": 1,
   "metadata": {},
   "outputs": [],
   "source": [
    "import os, json, csv"
   ]
  },
  {
   "cell_type": "code",
   "execution_count": 7,
   "metadata": {},
   "outputs": [
    {
     "data": {
      "text/plain": [
       "['fruit', '.ipynb_checkpoints', 'lab10.ipynb']"
      ]
     },
     "execution_count": 7,
     "metadata": {},
     "output_type": "execute_result"
    }
   ],
   "source": [
    "# cell 1\n",
    "os.listdir(\".\")"
   ]
  },
  {
   "cell_type": "code",
   "execution_count": 3,
   "metadata": {},
   "outputs": [
    {
     "data": {
      "text/plain": [
       "['lec22',\n",
       " 'lec25',\n",
       " 'p4',\n",
       " 'lab8',\n",
       " 'p3',\n",
       " 'lab1',\n",
       " 'lab6',\n",
       " 'lec15',\n",
       " 'lec24',\n",
       " 'lec23',\n",
       " 'lab7',\n",
       " 'lab9',\n",
       " 'p2',\n",
       " 'p5',\n",
       " '.DS_Store',\n",
       " 'lab10',\n",
       " 'lec06',\n",
       " 'lec08',\n",
       " 'lec09',\n",
       " 'lec07',\n",
       " 'p7',\n",
       " 'lab5',\n",
       " 'p9',\n",
       " 'lab2',\n",
       " 'lec19',\n",
       " 'lec26',\n",
       " 'lec21',\n",
       " 'lec28',\n",
       " 'lec17',\n",
       " 'lec10',\n",
       " 'p8',\n",
       " 'lab3',\n",
       " 'lab4',\n",
       " 'p6',\n",
       " 'p1',\n",
       " 'lec11',\n",
       " 'lec29',\n",
       " 'lec16',\n",
       " 'lec20',\n",
       " 'lec18',\n",
       " '.ipynb_checkpoints',\n",
       " 'lec05',\n",
       " 'lec04']"
      ]
     },
     "execution_count": 3,
     "metadata": {},
     "output_type": "execute_result"
    }
   ],
   "source": [
    "os.listdir(\"..\")"
   ]
  },
  {
   "cell_type": "code",
   "execution_count": 4,
   "metadata": {},
   "outputs": [
    {
     "name": "stdout",
     "output_type": "stream",
     "text": [
      "Return a list containing the names of the files in the directory.\n",
      "\n",
      "path can be specified as either str or bytes.  If path is bytes,\n",
      "  the filenames returned will also be bytes; in all other circumstances\n",
      "  the filenames returned will be str.\n",
      "If path is None, uses the path='.'.\n",
      "On some platforms, path may also be specified as an open file descriptor;\\\n",
      "  the file descriptor must refer to a directory.\n",
      "  If this functionality is unavailable, using it raises NotImplementedError.\n",
      "\n",
      "The list is in arbitrary order.  It does not include the special\n",
      "entries '.' and '..' even if they are present in the directory.\n"
     ]
    }
   ],
   "source": [
    "print(os.listdir.__doc__)"
   ]
  },
  {
   "cell_type": "code",
   "execution_count": 11,
   "metadata": {},
   "outputs": [
    {
     "ename": "SyntaxError",
     "evalue": "invalid syntax (<ipython-input-11-9fbb57faed27>, line 1)",
     "output_type": "error",
     "traceback": [
      "\u001b[0;36m  File \u001b[0;32m\"<ipython-input-11-9fbb57faed27>\"\u001b[0;36m, line \u001b[0;32m1\u001b[0m\n\u001b[0;31m    os.path.isfile(../p4)\u001b[0m\n\u001b[0m                   ^\u001b[0m\n\u001b[0;31mSyntaxError\u001b[0m\u001b[0;31m:\u001b[0m invalid syntax\n"
     ]
    }
   ],
   "source": [
    "os.path.isfile('../p4')"
   ]
  },
  {
   "cell_type": "code",
   "execution_count": 6,
   "metadata": {},
   "outputs": [],
   "source": [
    "if not os.path.exists(\"fruit\"):\n",
    "    os.mkdir(\"fruit\")\n",
    "else:\n",
    "    print(\"did not try to create fruit because it already existed\")"
   ]
  },
  {
   "cell_type": "code",
   "execution_count": 8,
   "metadata": {},
   "outputs": [
    {
     "data": {
      "text/plain": [
       "'fruit/apple.txt'"
      ]
     },
     "execution_count": 8,
     "metadata": {},
     "output_type": "execute_result"
    }
   ],
   "source": [
    "path = os.path.join(\"fruit\", \"apple.txt\")\n",
    "path"
   ]
  },
  {
   "cell_type": "code",
   "execution_count": 13,
   "metadata": {},
   "outputs": [],
   "source": [
    "path = os.path.join(\"fruit\", \"banana.txt\")\n",
    "f = open(path, \"w\", encoding=\"utf-8\")\n",
    "f.write(\"bananas are yellow\\n\")\n",
    "f.close()"
   ]
  },
  {
   "cell_type": "code",
   "execution_count": 15,
   "metadata": {},
   "outputs": [],
   "source": [
    "path = os.path.join(\"fruit\", \"orange.txt\")\n",
    "f = open(path, \"w\", encoding=\"utf-8\")\n",
    "f.write(\"oranges are orange\\n\")\n",
    "f.close()"
   ]
  },
  {
   "cell_type": "code",
   "execution_count": 16,
   "metadata": {},
   "outputs": [
    {
     "data": {
      "text/plain": [
       "['banana.txt', 'apple.txt', 'orange.txt']"
      ]
     },
     "execution_count": 16,
     "metadata": {},
     "output_type": "execute_result"
    }
   ],
   "source": [
    "os.listdir(\"fruit\")"
   ]
  },
  {
   "cell_type": "code",
   "execution_count": 12,
   "metadata": {},
   "outputs": [],
   "source": [
    "def fruit_message(name):\n",
    "    f = open(os.path.join(\"fruit\", name+\".txt\"), encoding=\"utf-8\")\n",
    "    msg = f.read()\n",
    "    f.close()\n",
    "    return msg"
   ]
  },
  {
   "cell_type": "code",
   "execution_count": 17,
   "metadata": {},
   "outputs": [
    {
     "data": {
      "text/plain": [
       "'bananas are yellow\\n'"
      ]
     },
     "execution_count": 17,
     "metadata": {},
     "output_type": "execute_result"
    }
   ],
   "source": [
    "fruit_message(\"banana\")"
   ]
  },
  {
   "cell_type": "code",
   "execution_count": 18,
   "metadata": {},
   "outputs": [
    {
     "name": "stdout",
     "output_type": "stream",
     "text": [
      "Python structs: [{'name': 'apple', 'count': 50, 'tasty': True}, {'name': 'watermelon', 'count': 60, 'tasty': False}, {'name': 'kiwi', 'count': 55, 'tasty': True}]\n",
      "JSON string: [{\"name\": \"apple\", \"count\": 50, \"tasty\": true}, {\"name\": \"watermelon\", \"count\": 60, \"tasty\": false}, {\"name\": \"kiwi\", \"count\": 55, \"tasty\": true}]\n"
     ]
    }
   ],
   "source": [
    "fruits = [\n",
    "    {\"name\": \"apple\", \"count\": 50, \"tasty\": True},\n",
    "    {\"name\": \"watermelon\", \"count\": 60, \"tasty\": False},\n",
    "    {\"name\": \"kiwi\", \"count\": 55, \"tasty\": True},\n",
    "]\n",
    "print(\"Python structs:\", fruits)\n",
    "\n",
    "# JSON string\n",
    "json_str = json.dumps(fruits)\n",
    "print(\"JSON string:\", json_str)\n",
    "\n",
    "# save to file\n",
    "f = open(os.path.join(\"fruit\", \"summary.json\"), \"w\", encoding=\"utf-8\")\n",
    "f.write(json_str)\n",
    "f.close()"
   ]
  },
  {
   "cell_type": "code",
   "execution_count": 19,
   "metadata": {},
   "outputs": [
    {
     "name": "stdout",
     "output_type": "stream",
     "text": [
      "Python structs: [{'name': 'apple', 'count': 50, 'tasty': True}, {'name': 'watermelon', 'count': 60, 'tasty': False}, {'name': 'kiwi', 'count': 55, 'tasty': True}]\n"
     ]
    }
   ],
   "source": [
    "fruits = [\n",
    "    {\"name\": \"apple\", \"count\": 50, \"tasty\": True},\n",
    "    {\"name\": \"watermelon\", \"count\": 60, \"tasty\": False},\n",
    "    {\"name\": \"kiwi\", \"count\": 55, \"tasty\": True},\n",
    "]\n",
    "print(\"Python structs:\", fruits)\n",
    "\n",
    "# save to file\n",
    "f = open(os.path.join(\"fruit\", \"summary2.json\"), \"w\", encoding=\"utf-8\")\n",
    "json.dump(fruits, f)\n",
    "f.close()"
   ]
  },
  {
   "cell_type": "code",
   "execution_count": 20,
   "metadata": {},
   "outputs": [
    {
     "name": "stdout",
     "output_type": "stream",
     "text": [
      "[{'name': 'apple', 'count': 50, 'tasty': True}, {'name': 'watermelon', 'count': 60, 'tasty': False}, {'name': 'kiwi', 'count': 55, 'tasty': True}]\n"
     ]
    }
   ],
   "source": [
    "f = open(os.path.join(\"fruit\", \"summary.json\"), encoding=\"utf-8\")\n",
    "json_str = f.read()\n",
    "f.close()\n",
    "\n",
    "data = json.loads(json_str)\n",
    "print(data)"
   ]
  },
  {
   "cell_type": "code",
   "execution_count": 21,
   "metadata": {},
   "outputs": [],
   "source": [
    "f = open(os.path.join(\"fruit\", \"good.csv\"), \"w\", encoding=\"utf-8\")\n",
    "f.write(\"fruit,count\\n\")\n",
    "f.write(\"apple,10\\n\")\n",
    "f.write(\"banana,3\\n\")\n",
    "f.write(\"orange,0\\n\")\n",
    "f.close()\n",
    "\n",
    "f = open(os.path.join(\"fruit\", \"rotten.csv\"), \"w\", encoding=\"utf-8\")\n",
    "f.write(\"fruit,count\\n\")\n",
    "f.write(\"apple,10\\n\")\n",
    "f.write(\"banana,3\\n\")\n",
    "f.write(\"orange\\n\")\n",
    "f.close()"
   ]
  },
  {
   "cell_type": "code",
   "execution_count": 22,
   "metadata": {},
   "outputs": [
    {
     "name": "stdout",
     "output_type": "stream",
     "text": [
      "OrderedDict([('fruit', 'apple'), ('count', '10')])\n",
      "OrderedDict([('fruit', 'banana'), ('count', '3')])\n",
      "OrderedDict([('fruit', 'orange'), ('count', '0')])\n"
     ]
    }
   ],
   "source": [
    "f = open(os.path.join(\"fruit\", \"good.csv\"), encoding=\"utf-8\")\n",
    "reader = csv.DictReader(f)\n",
    "for row in reader:\n",
    "    print(row)\n",
    "f.close()"
   ]
  },
  {
   "cell_type": "code",
   "execution_count": 23,
   "metadata": {},
   "outputs": [
    {
     "name": "stdout",
     "output_type": "stream",
     "text": [
      "apple 10\n",
      "banana 3\n",
      "orange 0\n"
     ]
    }
   ],
   "source": [
    "f = open(os.path.join(\"fruit\", \"good.csv\"), encoding=\"utf-8\")\n",
    "reader = csv.DictReader(f)\n",
    "for row in reader:\n",
    "    print(row[\"fruit\"], row[\"count\"])\n",
    "f.close()"
   ]
  },
  {
   "cell_type": "code",
   "execution_count": null,
   "metadata": {},
   "outputs": [],
   "source": []
  }
 ],
 "metadata": {
  "kernelspec": {
   "display_name": "Python 3",
   "language": "python",
   "name": "python3"
  },
  "language_info": {
   "codemirror_mode": {
    "name": "ipython",
    "version": 3
   },
   "file_extension": ".py",
   "mimetype": "text/x-python",
   "name": "python",
   "nbconvert_exporter": "python",
   "pygments_lexer": "ipython3",
   "version": "3.7.1"
  }
 },
 "nbformat": 4,
 "nbformat_minor": 2
}
