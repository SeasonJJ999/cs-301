{
 "cells": [
  {
   "cell_type": "code",
   "execution_count": 1,
   "metadata": {},
   "outputs": [],
   "source": [
    "# project: p6\n",
    "# submitter-netid: yzeng58\n",
    "# partner-netid: none"
   ]
  },
  {
   "cell_type": "code",
   "execution_count": 2,
   "metadata": {},
   "outputs": [
    {
     "data": {
      "text/plain": [
       "['country', 'points', 'price', 'variety', 'winery', 'description']"
      ]
     },
     "execution_count": 2,
     "metadata": {},
     "output_type": "execute_result"
    }
   ],
   "source": [
    "import csv\n",
    "\n",
    "# copied from https://automatetheboringstuff.com/chapter14/\n",
    "def process_csv(filename):\n",
    "    exampleFile = open(filename, encoding=\"utf-8\")\n",
    "    exampleReader = csv.reader(exampleFile)\n",
    "    exampleData = list(exampleReader)\n",
    "    return exampleData\n",
    "\n",
    "# use process_csv to pull out the header and data rows\n",
    "csv_rows = process_csv(\"wine.csv\")\n",
    "csv_header = csv_rows[0]\n",
    "csv_data = csv_rows[1:]\n",
    "csv_header"
   ]
  },
  {
   "cell_type": "code",
   "execution_count": 3,
   "metadata": {},
   "outputs": [],
   "source": [
    "def cell(row_idx, col_name):\n",
    "    col_idx = csv_header.index(col_name)\n",
    "    val = csv_data[row_idx][col_idx]\n",
    "    if val == \"\":\n",
    "        return None\n",
    "    # optional: convert types based on column name?\n",
    "    if col_name == 'points':\n",
    "        return int(val)\n",
    "    elif col_name == 'price':\n",
    "        return float(val)\n",
    "    else:\n",
    "        return val"
   ]
  },
  {
   "cell_type": "code",
   "execution_count": 4,
   "metadata": {},
   "outputs": [
    {
     "data": {
      "text/plain": [
       "['Spain',\n",
       " 'US',\n",
       " 'India',\n",
       " 'New Zealand',\n",
       " 'South Africa',\n",
       " 'Israel',\n",
       " 'Croatia',\n",
       " 'Italy',\n",
       " 'Argentina',\n",
       " 'France',\n",
       " 'Hungary',\n",
       " 'Germany',\n",
       " 'Romania',\n",
       " 'Australia',\n",
       " 'Greece',\n",
       " 'Chile',\n",
       " 'Slovenia',\n",
       " 'Moldova',\n",
       " 'Austria',\n",
       " 'Morocco',\n",
       " 'Portugal',\n",
       " 'Canada',\n",
       " 'Bulgaria']"
      ]
     },
     "execution_count": 4,
     "metadata": {},
     "output_type": "execute_result"
    }
   ],
   "source": [
    "#q1\n",
    "country_name = []\n",
    "for i in range(len(csv_data)):\n",
    "    if cell(i,'country') == None:\n",
    "        continue\n",
    "    country_name.append(cell(i,'country'))\n",
    "country_name = set(country_name)\n",
    "list(country_name)"
   ]
  },
  {
   "cell_type": "code",
   "execution_count": 5,
   "metadata": {},
   "outputs": [
    {
     "data": {
      "text/plain": [
       "39.40787623066104"
      ]
     },
     "execution_count": 5,
     "metadata": {},
     "output_type": "execute_result"
    }
   ],
   "source": [
    "#q2\n",
    "wine_price = []\n",
    "count = 0\n",
    "for i in range(len(csv_data)):\n",
    "    if cell(i,'price') != None:\n",
    "        wine_price.append(cell(i, 'price'))\n",
    "        count += 1\n",
    "sum(wine_price)/count"
   ]
  },
  {
   "cell_type": "code",
   "execution_count": 6,
   "metadata": {},
   "outputs": [
    {
     "data": {
      "text/plain": [
       "['Sparkling Blend',\n",
       " 'Garnacha',\n",
       " 'Garnacha Blanca',\n",
       " 'Palomino',\n",
       " 'Tempranillo',\n",
       " 'Albariño',\n",
       " 'Red Blend',\n",
       " 'Sherry',\n",
       " 'Godello',\n",
       " 'Mencía',\n",
       " 'Monastrell',\n",
       " 'Moscatel',\n",
       " 'Tempranillo Blend',\n",
       " 'White Blend',\n",
       " 'Grenache-Syrah',\n",
       " 'Tinta de Toro']"
      ]
     },
     "execution_count": 6,
     "metadata": {},
     "output_type": "execute_result"
    }
   ],
   "source": [
    "#q3\n",
    "Spain_varieties = []\n",
    "for i in range(len(csv_data)):\n",
    "    if cell(i,'country') == 'Spain':\n",
    "        Spain_varieties.append(cell(i,'variety'))\n",
    "list(set(Spain_varieties))"
   ]
  },
  {
   "cell_type": "code",
   "execution_count": 7,
   "metadata": {},
   "outputs": [
    {
     "data": {
      "text/plain": [
       "['Sevtap',\n",
       " 'Palmeri',\n",
       " 'Hawk Watch Winery',\n",
       " 'Andrew Murray',\n",
       " 'Clos La Chance',\n",
       " 'Château Pégau',\n",
       " 'MCV',\n",
       " 'Laird',\n",
       " 'Fess Parker',\n",
       " 'Adelaida Cellars',\n",
       " 'Beronia',\n",
       " 'Tetra',\n",
       " 'Montes']"
      ]
     },
     "execution_count": 7,
     "metadata": {},
     "output_type": "execute_result"
    }
   ],
   "source": [
    "#q4\n",
    "wineries_beef = []\n",
    "for i in range(len(csv_data)):\n",
    "    if 'beef' in cell(i,'description'):\n",
    "        wineries_beef.append(cell(i,'winery'))\n",
    "list(set(wineries_beef))"
   ]
  },
  {
   "cell_type": "code",
   "execution_count": 8,
   "metadata": {},
   "outputs": [
    {
     "data": {
      "text/plain": [
       "['Brander',\n",
       " 'Fattoria di Magliano',\n",
       " 'Concha y Toro',\n",
       " 'Domaine Collotte',\n",
       " 'Quinta Nova de Nossa Senhora do Carmo',\n",
       " 'Margerum',\n",
       " 'Benoît Girard',\n",
       " 'MCV',\n",
       " 'Dr. H. Thanisch (Erben Thanisch)',\n",
       " 'Heron Hill',\n",
       " 'Stephen Ross',\n",
       " 'Santa Cruz Mountain Vineyard',\n",
       " 'Domaine Ostertag',\n",
       " 'Domaine Allimant-Laugner',\n",
       " 'Byron',\n",
       " 'Bürgermeister Willi Schweinhardt',\n",
       " 'Sheldrake Point']"
      ]
     },
     "execution_count": 8,
     "metadata": {},
     "output_type": "execute_result"
    }
   ],
   "source": [
    "#q5\n",
    "wineries_zesty = []\n",
    "for i in range(len(csv_data)):\n",
    "    if 'zesty' in cell(i,'description').lower():\n",
    "        wineries_zesty.append(cell(i,'winery'))\n",
    "list(set(wineries_zesty))"
   ]
  },
  {
   "cell_type": "code",
   "execution_count": 9,
   "metadata": {
    "scrolled": true
   },
   "outputs": [
    {
     "data": {
      "text/plain": [
       "['Maurodos',\n",
       " 'Matarromera',\n",
       " 'Val de Los Frailes',\n",
       " 'Palacio del Burgo',\n",
       " 'Bodega Carmen Rodríguez']"
      ]
     },
     "execution_count": 9,
     "metadata": {},
     "output_type": "execute_result"
    }
   ],
   "source": [
    "#q6\n",
    "wineries_bfa = []\n",
    "for i in range(len(csv_data)):\n",
    "    if 'black-fruit aroma' in cell(i,'description').lower():\n",
    "        wineries_bfa.append(cell(i,'winery'))\n",
    "list(set(wineries_bfa))"
   ]
  },
  {
   "cell_type": "code",
   "execution_count": 10,
   "metadata": {},
   "outputs": [],
   "source": [
    "def anagrams(word1, word2):\n",
    "    if sorted(list(word1.lower().replace(' ',''))) == sorted(list(word2.lower().replace(' ', ''))):\n",
    "        return True"
   ]
  },
  {
   "cell_type": "code",
   "execution_count": 11,
   "metadata": {},
   "outputs": [
    {
     "data": {
      "text/plain": [
       "['Cabernet Sauvignon']"
      ]
     },
     "execution_count": 11,
     "metadata": {},
     "output_type": "execute_result"
    }
   ],
   "source": [
    "#q7\n",
    "var_ag = []\n",
    "for i in range(len(csv_data)):\n",
    "    if anagrams('antibus governance', cell(i,'variety')):\n",
    "        var_ag.append(cell(i,'variety'))\n",
    "list(set(var_ag))"
   ]
  },
  {
   "cell_type": "code",
   "execution_count": 12,
   "metadata": {},
   "outputs": [
    {
     "data": {
      "text/plain": [
       "['Tempranillo Blend']"
      ]
     },
     "execution_count": 12,
     "metadata": {},
     "output_type": "execute_result"
    }
   ],
   "source": [
    "#q8\n",
    "var_bp = []\n",
    "for i in range(len(csv_data)):\n",
    "    if anagrams('Banned Petrol Mill', cell(i,'variety')):\n",
    "        var_bp.append(cell(i,'variety'))\n",
    "list(set(var_bp))"
   ]
  },
  {
   "cell_type": "code",
   "execution_count": 13,
   "metadata": {},
   "outputs": [],
   "source": [
    "def highrate(country):\n",
    "    highrate = 0\n",
    "    variety = []\n",
    "    for i in range(len(csv_data)):\n",
    "        if cell(i,'country') == country:\n",
    "            if highrate < cell(i,'points'):\n",
    "                highrate = cell(i,'points')\n",
    "    for i in range(len(csv_data)):\n",
    "        if cell(i,'points') == highrate and cell(i,'country') == country:\n",
    "            variety.append(cell(i,'variety'))           \n",
    "    return variety"
   ]
  },
  {
   "cell_type": "code",
   "execution_count": 14,
   "metadata": {},
   "outputs": [
    {
     "data": {
      "text/plain": [
       "['Cabernet Sauvignon', 'Sauvignon Blanc', 'Pinot Noir']"
      ]
     },
     "execution_count": 14,
     "metadata": {},
     "output_type": "execute_result"
    }
   ],
   "source": [
    "#q9\n",
    "highrate('US')"
   ]
  },
  {
   "cell_type": "code",
   "execution_count": 15,
   "metadata": {},
   "outputs": [
    {
     "data": {
      "text/plain": [
       "['Tinta de Toro']"
      ]
     },
     "execution_count": 15,
     "metadata": {},
     "output_type": "execute_result"
    }
   ],
   "source": [
    "#q10\n",
    "highrate('Spain')"
   ]
  },
  {
   "cell_type": "code",
   "execution_count": 16,
   "metadata": {},
   "outputs": [],
   "source": [
    "def PPD(winery,country=None):\n",
    "    sumPPD = 0\n",
    "    count = 0\n",
    "    for i in range(len(csv_data)):\n",
    "        if country != None:\n",
    "            if country != cell(i,'country'):\n",
    "                continue\n",
    "        if cell(i, 'winery') != winery:\n",
    "            continue\n",
    "        sumPPD += cell(i,'points')/cell(i,'price')\n",
    "        count = count + 1\n",
    "    return sumPPD/count"
   ]
  },
  {
   "cell_type": "code",
   "execution_count": 17,
   "metadata": {},
   "outputs": [
    {
     "data": {
      "text/plain": [
       "2.183421985815603"
      ]
     },
     "execution_count": 17,
     "metadata": {},
     "output_type": "execute_result"
    }
   ],
   "source": [
    "#q11\n",
    "PPD('Heitz')"
   ]
  },
  {
   "cell_type": "code",
   "execution_count": 18,
   "metadata": {},
   "outputs": [
    {
     "data": {
      "text/plain": [
       "1.288074888074888"
      ]
     },
     "execution_count": 18,
     "metadata": {},
     "output_type": "execute_result"
    }
   ],
   "source": [
    "#q12\n",
    "PPD('Ponzi')"
   ]
  },
  {
   "cell_type": "code",
   "execution_count": 19,
   "metadata": {},
   "outputs": [],
   "source": [
    "def highPPD(country):\n",
    "    highPPD = 0\n",
    "    winery = 0\n",
    "    for i in range(len(csv_data)):\n",
    "        if cell(i,'country') == country:\n",
    "            if highPPD < PPD(cell(i,'winery'),country):\n",
    "                highPPD = PPD(cell(i,'winery'),country)\n",
    "                winery = cell(i,'winery')\n",
    "    return winery"
   ]
  },
  {
   "cell_type": "code",
   "execution_count": 20,
   "metadata": {},
   "outputs": [
    {
     "data": {
      "text/plain": [
       "'Spy Valley'"
      ]
     },
     "execution_count": 20,
     "metadata": {},
     "output_type": "execute_result"
    }
   ],
   "source": [
    "#q13\n",
    "highPPD('New Zealand')"
   ]
  },
  {
   "cell_type": "code",
   "execution_count": 21,
   "metadata": {},
   "outputs": [
    {
     "data": {
      "text/plain": [
       "'Riposte'"
      ]
     },
     "execution_count": 21,
     "metadata": {},
     "output_type": "execute_result"
    }
   ],
   "source": [
    "#q14\n",
    "highPPD('Australia')"
   ]
  },
  {
   "cell_type": "code",
   "execution_count": 22,
   "metadata": {},
   "outputs": [
    {
     "data": {
      "text/plain": [
       "'Cave Spring'"
      ]
     },
     "execution_count": 22,
     "metadata": {},
     "output_type": "execute_result"
    }
   ],
   "source": [
    "#q15\n",
    "highPPD('Canada')"
   ]
  },
  {
   "cell_type": "code",
   "execution_count": 23,
   "metadata": {},
   "outputs": [],
   "source": [
    "def var_wine(winery):\n",
    "    var_wine = []\n",
    "    for i in range(len(csv_data)):\n",
    "        if cell(i,'winery') == winery:\n",
    "            var_wine.append(cell(i,'variety'))\n",
    "    return list(set(var_wine))"
   ]
  },
  {
   "cell_type": "code",
   "execution_count": 24,
   "metadata": {},
   "outputs": [
    {
     "data": {
      "text/plain": [
       "['Portuguese Red', 'Portuguese White', 'Portuguese Rosé']"
      ]
     },
     "execution_count": 24,
     "metadata": {},
     "output_type": "execute_result"
    }
   ],
   "source": [
    "#q16\n",
    "var_wine('Quinta Nova de Nossa Senhora do Carmo')"
   ]
  },
  {
   "cell_type": "code",
   "execution_count": 25,
   "metadata": {},
   "outputs": [
    {
     "data": {
      "text/plain": [
       "['Portuguese Red', 'Portuguese White']"
      ]
     },
     "execution_count": 25,
     "metadata": {},
     "output_type": "execute_result"
    }
   ],
   "source": [
    "#q17\n",
    "var_wine( \"Adega Cooperativa de Borba\" )"
   ]
  },
  {
   "cell_type": "code",
   "execution_count": 26,
   "metadata": {},
   "outputs": [
    {
     "data": {
      "text/plain": [
       "['Portuguese Red', 'Portuguese Sparkling', 'Touriga Nacional']"
      ]
     },
     "execution_count": 26,
     "metadata": {},
     "output_type": "execute_result"
    }
   ],
   "source": [
    "#q18\n",
    "var_wine('Global Wines')"
   ]
  },
  {
   "cell_type": "code",
   "execution_count": 27,
   "metadata": {},
   "outputs": [
    {
     "data": {
      "text/plain": [
       "66.66666666666666"
      ]
     },
     "execution_count": 27,
     "metadata": {},
     "output_type": "execute_result"
    }
   ],
   "source": [
    "#q19\n",
    "pq = 0\n",
    "for variety in var_wine('Quinta Nova de Nossa Senhora do Carmo'):\n",
    "    if variety in var_wine(\"Adega Cooperativa de Borba\"):\n",
    "        pq += 1\n",
    "pq/len(var_wine('Quinta Nova de Nossa Senhora do Carmo'))*100"
   ]
  },
  {
   "cell_type": "code",
   "execution_count": 28,
   "metadata": {},
   "outputs": [
    {
     "data": {
      "text/plain": [
       "33.33333333333333"
      ]
     },
     "execution_count": 28,
     "metadata": {},
     "output_type": "execute_result"
    }
   ],
   "source": [
    "#q20\n",
    "pq = 0\n",
    "for variety in var_wine('Quinta Nova de Nossa Senhora do Carmo'):\n",
    "    if variety in var_wine(\"Global Wines\"):\n",
    "        pq += 1\n",
    "pq/len(var_wine('Quinta Nova de Nossa Senhora do Carmo'))*100"
   ]
  }
 ],
 "metadata": {
  "kernelspec": {
   "display_name": "Python 3",
   "language": "python",
   "name": "python3"
  },
  "language_info": {
   "codemirror_mode": {
    "name": "ipython",
    "version": 3
   },
   "file_extension": ".py",
   "mimetype": "text/x-python",
   "name": "python",
   "nbconvert_exporter": "python",
   "pygments_lexer": "ipython3",
   "version": "3.7.1"
  }
 },
 "nbformat": 4,
 "nbformat_minor": 2
}
