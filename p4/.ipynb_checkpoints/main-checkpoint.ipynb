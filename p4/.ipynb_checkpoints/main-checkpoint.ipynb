{
 "cells": [
  {
   "cell_type": "code",
   "execution_count": null,
   "metadata": {},
   "outputs": [],
   "source": [
    "# This line is a comment because it starts with a pound sign (#). That                                                                                                                                         \n",
    "# means Python ignores it.  A comment is just for a human reading the                                                                                                                                          \n",
    "# code.  This project involves 20 small problems to give you practice                                                                                                                                          \n",
    "# with operators, types, and boolean logic.  We'll give you directions                                                                                                                                         \n",
    "# (as comments) on what to do for each problem.                                                                                                                                                                \n",
    "#                                                                                                                                                                                                              \n",
    "# Before you get started, please tell us who you are, putting your\n",
    "# Net ID and your partner's Net ID below (or none if your working solo)                                                                                                                                      \n",
    "#\n",
    "# project: p4\n",
    "# submitter-netid: yzeng58\n",
    "# partner-netid: none"
   ]
  },
  {
   "cell_type": "code",
   "execution_count": 41,
   "metadata": {},
   "outputs": [],
   "source": [
    "def AskQuestion(question,truth,hint=\"Check the textbook\"):\n",
    "    print(question)\n",
    "    if (hint!='No'):\n",
    "        print(hint)\n",
    "    answer =  input(\"Your answer: \")\n",
    "    if grade(answer,truth) == False:\n",
    "        return False\n",
    "    else:\n",
    "        return True\n",
    "        \n",
    "def grade(answer, truth):\n",
    "    if truth == str.strip(str.lower(answer)):\n",
    "        print(\"Congratulations! You got it right.\\n\")\n",
    "        return True\n",
    "    else:\n",
    "        print(\"Sorry your answer was incorrect.\\n\")\n",
    "        return False"
   ]
  },
  {
   "cell_type": "code",
   "execution_count": null,
   "metadata": {},
   "outputs": [
    {
     "name": "stdout",
     "output_type": "stream",
     "text": [
      "How many tries do you want for each question: 2\n",
      "What is the type of the following? \"1.0\" + \"2.0\"\n",
      " a) int\n",
      " b) float\n",
      " c) str\n",
      " d) bool\n",
      " e) NoneType\n",
      "\n"
     ]
    }
   ],
   "source": [
    "iteration = int(input(\"How many tries do you want for each question: \"))\n",
    "q1 = \"What is the type of the following? \\\"1.0\\\" + \\\"2.0\\\"\\n a) int\\n b) float\\n c) str\\n d) bool\\n e) NoneType\\n\"\n",
    "q2 = \"What is the type of the following?\\n \\\"1\\\" * 2\\n\"\n",
    "q3 = \"What does this expression evaluate to?\\n True != (3 < 2)\\n\"\n",
    "times = iteration\n",
    "correct = 0\n",
    "while (times > 0):\n",
    "    times = times - 1\n",
    "    if (times > 0):\n",
    "        hint = 'No'\n",
    "    elif (times == 0):\n",
    "        hint = \"Check the textbook\\n\"\n",
    "    if AskQuestion(q1,'c',hint) == False:\n",
    "        print(\"Try again! You have\",times,\"more tries\\n\")\n",
    "    else:\n",
    "        correct = correct + 1\n",
    "        break\n",
    "        \n",
    "times = iteration\n",
    "while (times > 0):\n",
    "    times = times - 1\n",
    "    if (times > 0):\n",
    "        hint = 'No'\n",
    "    elif (times == 0):\n",
    "        hint = \"Check the textbook\\n\"\n",
    "    if AskQuestion(q2,'str',hint) == False:\n",
    "        print(\"Try again! You have\",times,\"more tries\\n\")\n",
    "    else:\n",
    "        correct = correct + 1\n",
    "        break\n",
    "        \n",
    "times = iteration\n",
    "while (times > 0):\n",
    "    times = times - 1\n",
    "    if (times > 0):\n",
    "        hint1 = 'No'\n",
    "    elif (times == 0):\n",
    "        hint1 = \"Check the textbook\\n\"\n",
    "    if AskQuestion(q3,'true',hint) == False:\n",
    "        print(\"Try again! You have\",times,\"more tries\\n\")\n",
    "    else:\n",
    "        correct = correct + 1\n",
    "        break \n",
    "\n",
    "\n",
    "print(\"You tried 3 questions and got\",correct,\"right.\\n\")"
   ]
  },
  {
   "cell_type": "code",
   "execution_count": 16,
   "metadata": {},
   "outputs": [
    {
     "name": "stdout",
     "output_type": "stream",
     "text": [
      "What is the type of the following? \"1.0\" + \"2.0\"\n",
      " a) int\n",
      " b) float\n",
      " c) str\n",
      " d) bool\n",
      " e) NoneType\n",
      "\n",
      "Your answer: c\n",
      "You answered  c . The correct answer is c .\n",
      "\n",
      "Congratulations! You got it right.\n"
     ]
    }
   ],
   "source": [
    "#q1\n",
    "print(\"What is the type of the following? \\\"1.0\\\" + \\\"2.0\\\"\\n\",\n",
    "\"a) int\\n\",\n",
    "\"b) float\\n\",\n",
    "\"c) str\\n\",\n",
    "\"d) bool\\n\",\n",
    "\"e) NoneType\\n\")\n",
    "a1 = input(\"Your answer: \")\n",
    "t1 = 'c'\n",
    "print(\"You answered \",a1,\". The correct answer is\",t1,\".\\n\")\n",
    "grade(a1,t1)"
   ]
  },
  {
   "cell_type": "code",
   "execution_count": 20,
   "metadata": {},
   "outputs": [
    {
     "name": "stdout",
     "output_type": "stream",
     "text": [
      "What is the type of the following?\n",
      " \"1\" * 2\n",
      "Your answer: w\n",
      "<class 'str'>\n"
     ]
    }
   ],
   "source": [
    "#q2\n",
    "print(\"What is the type of the following?\\n \\\"1\\\" * 2\")\n",
    "a2  = input(\"Your answer: \")\n",
    "t2 = type(\"1\"*2)\n",
    "grade(a2,t2\n",
    "     )"
   ]
  },
  {
   "cell_type": "code",
   "execution_count": 26,
   "metadata": {},
   "outputs": [
    {
     "data": {
      "text/plain": [
       "True"
      ]
     },
     "execution_count": 26,
     "metadata": {},
     "output_type": "execute_result"
    }
   ],
   "source": [
    "True != (3 < 2)"
   ]
  },
  {
   "cell_type": "code",
   "execution_count": null,
   "metadata": {},
   "outputs": [],
   "source": [
    "# This line is a comment because it starts with a pound sign (#). That                                                                                                                                         \n",
    "# means Python ignores it.  A comment is just for a human reading the                                                                                                                                          \n",
    "# code.  This project involves 20 small problems to give you practice                                                                                                                                          \n",
    "# with operators, types, and boolean logic.  We'll give you directions                                                                                                                                         \n",
    "# (as comments) on what to do for each problem.                                                                                                                                                                \n",
    "#                                                                                                                                                                                                              \n",
    "# Before you get started, please tell us who you are, putting your\n",
    "# Net ID and your partner's Net ID below (or none if your working solo)                                                                                                                                      \n",
    "#\n",
    "# project: p4\n",
    "# submitter-netid: yzeng58\n",
    "# partner-netid: none\n",
    "\n",
    "def AskQuestion(question,truth,hint=\"Check the textbook\",times):\n",
    "    while (times>0):\n",
    "        times = times - 1\n",
    "        print(question)\n",
    "        answer =  input(\"Your answer: \")\n",
    "        if grade(answer,truth) == False:\n",
    "            if (times == 0):\n",
    "                print(hint)\n",
    "                print(\"You answered \",answer,\". The correct answer is \", truth,\".\")\n",
    "        print(\"You have this many remaining tries: \",times)\n",
    "            return False\n",
    "        else:\n",
    "            break\n",
    "        return True\n",
    "        \n",
    "def grade(answer, truth):\n",
    "    if truth == str.strip(str.lower(answer)):\n",
    "        print(\"\\nCongratulations! You got it right.\")\n",
    "        return True\n",
    "    else:\n",
    "        return False\n",
    "iteration = int(input(\"How many tries do you want for each question: \"))\n",
    "q1 = \"\\nWhat is the type of the following? \\\"1.0\\\" + \\\"2.0\\\"\\n a) int\\n b) float\\n c) str\\n d) bool\\n e) NoneType\"\n",
    "q2 = \"\\nWhat is the type of the following? \\\"1\\\" * 2\"\n",
    "q3 = \"\\nWhat does this expression evaluate to?\\n True != (3 < 2)\"\n",
    "times = iteration\n",
    "correct = 0\n",
    "if AskQuestion(q1,'c',hint) == True:\n",
    "    correct = correct + 1\n",
    "\n",
    "times = iteration\n",
    "while (times > 0):\n",
    "    times = times - 1\n",
    "    if (times > 0):\n",
    "        hint = 'No'\n",
    "    elif (times == 0):\n",
    "        hint = \"Check the textbook\"\n",
    "        print(\"You answered \",answer,\". The correct answer is \",'str',\".\")\n",
    "    if AskQuestion(q2,'str',hint) == False:\n",
    "        if (hint != 'No'):\n",
    "            print(hint)\n",
    "        print(\"You have this many remaining tries: \",times)\n",
    "    else:\n",
    "        correct = correct + 1\n",
    "        break\n",
    "        \n",
    "times = iteration\n",
    "while (times > 0):\n",
    "    times = times - 1\n",
    "    if (times > 0):\n",
    "        hint = 'No'\n",
    "    elif (times == 0):\n",
    "        hint = \"Calcuate the right side first. Don't forget != means not equal to.\"\n",
    "    if AskQuestion(q3,'true',hint) == False:\n",
    "        if (hint != 'No'):\n",
    "            print(hint)\n",
    "        print(\"You answered \",answer,\". The correct answer is \",'True',\".\")\n",
    "        print(\"You have this many remaining tries: \",times)\n",
    "    else:\n",
    "        correct = correct + 1\n",
    "        break \n",
    "\n",
    "print(\"You tried 3 questions and got\",correct,\"right.\\n\")\n"
   ]
  }
 ],
 "metadata": {
  "kernelspec": {
   "display_name": "Python 3",
   "language": "python",
   "name": "python3"
  },
  "language_info": {
   "codemirror_mode": {
    "name": "ipython",
    "version": 3
   },
   "file_extension": ".py",
   "mimetype": "text/x-python",
   "name": "python",
   "nbconvert_exporter": "python",
   "pygments_lexer": "ipython3",
   "version": "3.7.1"
  }
 },
 "nbformat": 4,
 "nbformat_minor": 2
}
